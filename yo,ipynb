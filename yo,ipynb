# 6. Strings and String Manipulation
text = "Hello, World!"
print(text.upper())
print(text.lower())
print(text.replace("Hello", "Hi"))

# 7. Exception Handling
try:
    result = 10 / 0
except ZeroDivisionError:
    print("Cannot divide by zero")